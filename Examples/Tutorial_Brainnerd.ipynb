{
  "nbformat": 4,
  "nbformat_minor": 0,
  "metadata": {
    "colab": {
      "name": "Tutorial_Brainnerd.ipynb",
      "provenance": [],
      "collapsed_sections": [],
      "mount_file_id": "1x7Kul4J4rYuIdlEuR8QRgtxzN6IXXHjg",
      "authorship_tag": "ABX9TyP40nZoeaGrKCJXm9cPE0aQ",
      "include_colab_link": true
    },
    "kernelspec": {
      "name": "python3",
      "display_name": "Python 3"
    },
    "language_info": {
      "name": "python"
    }
  },
  "cells": [
    {
      "cell_type": "markdown",
      "metadata": {
        "id": "view-in-github",
        "colab_type": "text"
      },
      "source": [
        "<a href=\"https://colab.research.google.com/github/DrKimLab/BrainNERD/blob/main/Examples/Tutorial_Brainnerd.ipynb\" target=\"_parent\"><img src=\"https://colab.research.google.com/assets/colab-badge.svg\" alt=\"Open In Colab\"/></a>"
      ]
    },
    {
      "cell_type": "markdown",
      "source": [
        "# Dr. Kim Lab "
      ],
      "metadata": {
        "id": "9eFcGyf0xuRu"
      }
    },
    {
      "cell_type": "markdown",
      "source": [
        "### Example 1"
      ],
      "metadata": {
        "id": "Uyt7andGvYGB"
      }
    },
    {
      "cell_type": "markdown",
      "source": [
        "#### We are going to start by loading the necessary libraries\n",
        "If you dont have this libraries you can install them by using ```!pip install yourlibrary ```"
      ],
      "metadata": {
        "id": "NP50Fap_vaIx"
      }
    },
    {
      "cell_type": "markdown",
      "source": [
        "## The code below will install the necesary libraries in order to run the tutorial in colab"
      ],
      "metadata": {
        "id": "3SAyz8cIO-Lv"
      }
    },
    {
      "cell_type": "code",
      "source": [
        "!pip install spacy==(last version of spacy(3.2.4)) "
      ],
      "metadata": {
        "colab": {
          "base_uri": "https://localhost:8080/"
        },
        "id": "uyakE-Mr1LV9",
        "outputId": "d215972d-bb43-499d-9492-fcb1ce2a2084"
      },
      "execution_count": null,
      "outputs": [
        {
          "output_type": "stream",
          "name": "stdout",
          "text": [
            "/bin/bash: -c: line 0: syntax error near unexpected token `('\n",
            "/bin/bash: -c: line 0: `pip install spacy==(last version of spacy(3.2.4)) '\n"
          ]
        }
      ]
    },
    {
      "cell_type": "code",
      "source": [
        "!pip install spacy-transformers -f https://download.pytorch.org/whl/torch_stable.html"
      ],
      "metadata": {
        "colab": {
          "base_uri": "https://localhost:8080/"
        },
        "id": "rZgKfdt40Qbz",
        "outputId": "ef1ef546-6365-4fba-b96a-970be14df218"
      },
      "execution_count": null,
      "outputs": [
        {
          "output_type": "stream",
          "name": "stdout",
          "text": [
            "Looking in indexes: https://pypi.org/simple, https://us-python.pkg.dev/colab-wheels/public/simple/\n",
            "Looking in links: https://download.pytorch.org/whl/torch_stable.html\n",
            "Requirement already satisfied: spacy-transformers in /usr/local/lib/python3.7/dist-packages (1.1.7)\n",
            "Requirement already satisfied: torch>=1.6.0 in /usr/local/lib/python3.7/dist-packages (from spacy-transformers) (1.12.0+cu113)\n",
            "Requirement already satisfied: spacy<4.0.0,>=3.1.3 in /usr/local/lib/python3.7/dist-packages (from spacy-transformers) (3.3.1)\n",
            "Requirement already satisfied: transformers<4.21.0,>=3.4.0 in /usr/local/lib/python3.7/dist-packages (from spacy-transformers) (4.20.1)\n",
            "Requirement already satisfied: srsly<3.0.0,>=2.4.0 in /usr/local/lib/python3.7/dist-packages (from spacy-transformers) (2.4.3)\n",
            "Requirement already satisfied: spacy-alignments<1.0.0,>=0.7.2 in /usr/local/lib/python3.7/dist-packages (from spacy-transformers) (0.8.5)\n",
            "Requirement already satisfied: spacy-legacy<3.1.0,>=3.0.9 in /usr/local/lib/python3.7/dist-packages (from spacy<4.0.0,>=3.1.3->spacy-transformers) (3.0.9)\n",
            "Requirement already satisfied: preshed<3.1.0,>=3.0.2 in /usr/local/lib/python3.7/dist-packages (from spacy<4.0.0,>=3.1.3->spacy-transformers) (3.0.6)\n",
            "Requirement already satisfied: numpy>=1.15.0 in /usr/local/lib/python3.7/dist-packages (from spacy<4.0.0,>=3.1.3->spacy-transformers) (1.21.6)\n",
            "Requirement already satisfied: pydantic!=1.8,!=1.8.1,<1.9.0,>=1.7.4 in /usr/local/lib/python3.7/dist-packages (from spacy<4.0.0,>=3.1.3->spacy-transformers) (1.8.2)\n",
            "Requirement already satisfied: tqdm<5.0.0,>=4.38.0 in /usr/local/lib/python3.7/dist-packages (from spacy<4.0.0,>=3.1.3->spacy-transformers) (4.64.0)\n",
            "Requirement already satisfied: thinc<8.1.0,>=8.0.14 in /usr/local/lib/python3.7/dist-packages (from spacy<4.0.0,>=3.1.3->spacy-transformers) (8.0.17)\n",
            "Requirement already satisfied: typer<0.5.0,>=0.3.0 in /usr/local/lib/python3.7/dist-packages (from spacy<4.0.0,>=3.1.3->spacy-transformers) (0.4.2)\n",
            "Requirement already satisfied: setuptools in /usr/local/lib/python3.7/dist-packages (from spacy<4.0.0,>=3.1.3->spacy-transformers) (57.4.0)\n",
            "Requirement already satisfied: wasabi<1.1.0,>=0.9.1 in /usr/local/lib/python3.7/dist-packages (from spacy<4.0.0,>=3.1.3->spacy-transformers) (0.9.1)\n",
            "Requirement already satisfied: catalogue<2.1.0,>=2.0.6 in /usr/local/lib/python3.7/dist-packages (from spacy<4.0.0,>=3.1.3->spacy-transformers) (2.0.7)\n",
            "Requirement already satisfied: typing-extensions<4.2.0,>=3.7.4 in /usr/local/lib/python3.7/dist-packages (from spacy<4.0.0,>=3.1.3->spacy-transformers) (4.1.1)\n",
            "Requirement already satisfied: jinja2 in /usr/local/lib/python3.7/dist-packages (from spacy<4.0.0,>=3.1.3->spacy-transformers) (2.11.3)\n",
            "Requirement already satisfied: packaging>=20.0 in /usr/local/lib/python3.7/dist-packages (from spacy<4.0.0,>=3.1.3->spacy-transformers) (21.3)\n",
            "Requirement already satisfied: cymem<2.1.0,>=2.0.2 in /usr/local/lib/python3.7/dist-packages (from spacy<4.0.0,>=3.1.3->spacy-transformers) (2.0.6)\n",
            "Requirement already satisfied: blis<0.8.0,>=0.4.0 in /usr/local/lib/python3.7/dist-packages (from spacy<4.0.0,>=3.1.3->spacy-transformers) (0.7.8)\n",
            "Requirement already satisfied: pathy>=0.3.5 in /usr/local/lib/python3.7/dist-packages (from spacy<4.0.0,>=3.1.3->spacy-transformers) (0.6.2)\n",
            "Requirement already satisfied: murmurhash<1.1.0,>=0.28.0 in /usr/local/lib/python3.7/dist-packages (from spacy<4.0.0,>=3.1.3->spacy-transformers) (1.0.7)\n",
            "Requirement already satisfied: requests<3.0.0,>=2.13.0 in /usr/local/lib/python3.7/dist-packages (from spacy<4.0.0,>=3.1.3->spacy-transformers) (2.23.0)\n",
            "Requirement already satisfied: langcodes<4.0.0,>=3.2.0 in /usr/local/lib/python3.7/dist-packages (from spacy<4.0.0,>=3.1.3->spacy-transformers) (3.3.0)\n",
            "Requirement already satisfied: spacy-loggers<2.0.0,>=1.0.0 in /usr/local/lib/python3.7/dist-packages (from spacy<4.0.0,>=3.1.3->spacy-transformers) (1.0.3)\n",
            "Requirement already satisfied: zipp>=0.5 in /usr/local/lib/python3.7/dist-packages (from catalogue<2.1.0,>=2.0.6->spacy<4.0.0,>=3.1.3->spacy-transformers) (3.8.1)\n",
            "Requirement already satisfied: pyparsing!=3.0.5,>=2.0.2 in /usr/local/lib/python3.7/dist-packages (from packaging>=20.0->spacy<4.0.0,>=3.1.3->spacy-transformers) (3.0.9)\n",
            "Requirement already satisfied: smart-open<6.0.0,>=5.2.1 in /usr/local/lib/python3.7/dist-packages (from pathy>=0.3.5->spacy<4.0.0,>=3.1.3->spacy-transformers) (5.2.1)\n",
            "Requirement already satisfied: certifi>=2017.4.17 in /usr/local/lib/python3.7/dist-packages (from requests<3.0.0,>=2.13.0->spacy<4.0.0,>=3.1.3->spacy-transformers) (2022.6.15)\n",
            "Requirement already satisfied: chardet<4,>=3.0.2 in /usr/local/lib/python3.7/dist-packages (from requests<3.0.0,>=2.13.0->spacy<4.0.0,>=3.1.3->spacy-transformers) (3.0.4)\n",
            "Requirement already satisfied: urllib3!=1.25.0,!=1.25.1,<1.26,>=1.21.1 in /usr/local/lib/python3.7/dist-packages (from requests<3.0.0,>=2.13.0->spacy<4.0.0,>=3.1.3->spacy-transformers) (1.24.3)\n",
            "Requirement already satisfied: idna<3,>=2.5 in /usr/local/lib/python3.7/dist-packages (from requests<3.0.0,>=2.13.0->spacy<4.0.0,>=3.1.3->spacy-transformers) (2.10)\n",
            "Requirement already satisfied: regex!=2019.12.17 in /usr/local/lib/python3.7/dist-packages (from transformers<4.21.0,>=3.4.0->spacy-transformers) (2022.6.2)\n",
            "Requirement already satisfied: tokenizers!=0.11.3,<0.13,>=0.11.1 in /usr/local/lib/python3.7/dist-packages (from transformers<4.21.0,>=3.4.0->spacy-transformers) (0.12.1)\n",
            "Requirement already satisfied: importlib-metadata in /usr/local/lib/python3.7/dist-packages (from transformers<4.21.0,>=3.4.0->spacy-transformers) (4.12.0)\n",
            "Requirement already satisfied: huggingface-hub<1.0,>=0.1.0 in /usr/local/lib/python3.7/dist-packages (from transformers<4.21.0,>=3.4.0->spacy-transformers) (0.8.1)\n",
            "Requirement already satisfied: pyyaml>=5.1 in /usr/local/lib/python3.7/dist-packages (from transformers<4.21.0,>=3.4.0->spacy-transformers) (6.0)\n",
            "Requirement already satisfied: filelock in /usr/local/lib/python3.7/dist-packages (from transformers<4.21.0,>=3.4.0->spacy-transformers) (3.7.1)\n",
            "Requirement already satisfied: click<9.0.0,>=7.1.1 in /usr/local/lib/python3.7/dist-packages (from typer<0.5.0,>=0.3.0->spacy<4.0.0,>=3.1.3->spacy-transformers) (7.1.2)\n",
            "Requirement already satisfied: MarkupSafe>=0.23 in /usr/local/lib/python3.7/dist-packages (from jinja2->spacy<4.0.0,>=3.1.3->spacy-transformers) (2.0.1)\n"
          ]
        }
      ]
    },
    {
      "cell_type": "code",
      "source": [
        "!pip install spacy[transformers]"
      ],
      "metadata": {
        "colab": {
          "base_uri": "https://localhost:8080/"
        },
        "id": "u-3Pjk9RzWjE",
        "outputId": "0cf7e2dd-d590-4f74-e2be-a508f469f157"
      },
      "execution_count": null,
      "outputs": [
        {
          "output_type": "stream",
          "name": "stdout",
          "text": [
            "Looking in indexes: https://pypi.org/simple, https://us-python.pkg.dev/colab-wheels/public/simple/\n",
            "Requirement already satisfied: spacy[transformers] in /usr/local/lib/python3.7/dist-packages (3.3.1)\n",
            "Requirement already satisfied: blis<0.8.0,>=0.4.0 in /usr/local/lib/python3.7/dist-packages (from spacy[transformers]) (0.7.8)\n",
            "Requirement already satisfied: typing-extensions<4.2.0,>=3.7.4 in /usr/local/lib/python3.7/dist-packages (from spacy[transformers]) (4.1.1)\n",
            "Requirement already satisfied: packaging>=20.0 in /usr/local/lib/python3.7/dist-packages (from spacy[transformers]) (21.3)\n",
            "Requirement already satisfied: spacy-legacy<3.1.0,>=3.0.9 in /usr/local/lib/python3.7/dist-packages (from spacy[transformers]) (3.0.9)\n",
            "Requirement already satisfied: wasabi<1.1.0,>=0.9.1 in /usr/local/lib/python3.7/dist-packages (from spacy[transformers]) (0.9.1)\n",
            "Requirement already satisfied: murmurhash<1.1.0,>=0.28.0 in /usr/local/lib/python3.7/dist-packages (from spacy[transformers]) (1.0.7)\n",
            "Requirement already satisfied: thinc<8.1.0,>=8.0.14 in /usr/local/lib/python3.7/dist-packages (from spacy[transformers]) (8.0.17)\n",
            "Requirement already satisfied: typer<0.5.0,>=0.3.0 in /usr/local/lib/python3.7/dist-packages (from spacy[transformers]) (0.4.2)\n",
            "Requirement already satisfied: srsly<3.0.0,>=2.4.3 in /usr/local/lib/python3.7/dist-packages (from spacy[transformers]) (2.4.3)\n",
            "Requirement already satisfied: pydantic!=1.8,!=1.8.1,<1.9.0,>=1.7.4 in /usr/local/lib/python3.7/dist-packages (from spacy[transformers]) (1.8.2)\n",
            "Requirement already satisfied: setuptools in /usr/local/lib/python3.7/dist-packages (from spacy[transformers]) (57.4.0)\n",
            "Requirement already satisfied: jinja2 in /usr/local/lib/python3.7/dist-packages (from spacy[transformers]) (2.11.3)\n",
            "Requirement already satisfied: langcodes<4.0.0,>=3.2.0 in /usr/local/lib/python3.7/dist-packages (from spacy[transformers]) (3.3.0)\n",
            "Requirement already satisfied: catalogue<2.1.0,>=2.0.6 in /usr/local/lib/python3.7/dist-packages (from spacy[transformers]) (2.0.7)\n",
            "Requirement already satisfied: numpy>=1.15.0 in /usr/local/lib/python3.7/dist-packages (from spacy[transformers]) (1.21.6)\n",
            "Requirement already satisfied: cymem<2.1.0,>=2.0.2 in /usr/local/lib/python3.7/dist-packages (from spacy[transformers]) (2.0.6)\n",
            "Requirement already satisfied: preshed<3.1.0,>=3.0.2 in /usr/local/lib/python3.7/dist-packages (from spacy[transformers]) (3.0.6)\n",
            "Requirement already satisfied: requests<3.0.0,>=2.13.0 in /usr/local/lib/python3.7/dist-packages (from spacy[transformers]) (2.23.0)\n",
            "Requirement already satisfied: spacy-loggers<2.0.0,>=1.0.0 in /usr/local/lib/python3.7/dist-packages (from spacy[transformers]) (1.0.3)\n",
            "Requirement already satisfied: tqdm<5.0.0,>=4.38.0 in /usr/local/lib/python3.7/dist-packages (from spacy[transformers]) (4.64.0)\n",
            "Requirement already satisfied: pathy>=0.3.5 in /usr/local/lib/python3.7/dist-packages (from spacy[transformers]) (0.6.2)\n",
            "Requirement already satisfied: spacy-transformers<1.2.0,>=1.1.2 in /usr/local/lib/python3.7/dist-packages (from spacy[transformers]) (1.1.7)\n",
            "Requirement already satisfied: zipp>=0.5 in /usr/local/lib/python3.7/dist-packages (from catalogue<2.1.0,>=2.0.6->spacy[transformers]) (3.8.1)\n",
            "Requirement already satisfied: pyparsing!=3.0.5,>=2.0.2 in /usr/local/lib/python3.7/dist-packages (from packaging>=20.0->spacy[transformers]) (3.0.9)\n",
            "Requirement already satisfied: smart-open<6.0.0,>=5.2.1 in /usr/local/lib/python3.7/dist-packages (from pathy>=0.3.5->spacy[transformers]) (5.2.1)\n",
            "Requirement already satisfied: chardet<4,>=3.0.2 in /usr/local/lib/python3.7/dist-packages (from requests<3.0.0,>=2.13.0->spacy[transformers]) (3.0.4)\n",
            "Requirement already satisfied: idna<3,>=2.5 in /usr/local/lib/python3.7/dist-packages (from requests<3.0.0,>=2.13.0->spacy[transformers]) (2.10)\n",
            "Requirement already satisfied: certifi>=2017.4.17 in /usr/local/lib/python3.7/dist-packages (from requests<3.0.0,>=2.13.0->spacy[transformers]) (2022.6.15)\n",
            "Requirement already satisfied: urllib3!=1.25.0,!=1.25.1,<1.26,>=1.21.1 in /usr/local/lib/python3.7/dist-packages (from requests<3.0.0,>=2.13.0->spacy[transformers]) (1.24.3)\n",
            "Requirement already satisfied: torch>=1.6.0 in /usr/local/lib/python3.7/dist-packages (from spacy-transformers<1.2.0,>=1.1.2->spacy[transformers]) (1.12.0+cu113)\n",
            "Requirement already satisfied: spacy-alignments<1.0.0,>=0.7.2 in /usr/local/lib/python3.7/dist-packages (from spacy-transformers<1.2.0,>=1.1.2->spacy[transformers]) (0.8.5)\n",
            "Requirement already satisfied: transformers<4.21.0,>=3.4.0 in /usr/local/lib/python3.7/dist-packages (from spacy-transformers<1.2.0,>=1.1.2->spacy[transformers]) (4.20.1)\n",
            "Requirement already satisfied: regex!=2019.12.17 in /usr/local/lib/python3.7/dist-packages (from transformers<4.21.0,>=3.4.0->spacy-transformers<1.2.0,>=1.1.2->spacy[transformers]) (2022.6.2)\n",
            "Requirement already satisfied: huggingface-hub<1.0,>=0.1.0 in /usr/local/lib/python3.7/dist-packages (from transformers<4.21.0,>=3.4.0->spacy-transformers<1.2.0,>=1.1.2->spacy[transformers]) (0.8.1)\n",
            "Requirement already satisfied: tokenizers!=0.11.3,<0.13,>=0.11.1 in /usr/local/lib/python3.7/dist-packages (from transformers<4.21.0,>=3.4.0->spacy-transformers<1.2.0,>=1.1.2->spacy[transformers]) (0.12.1)\n",
            "Requirement already satisfied: importlib-metadata in /usr/local/lib/python3.7/dist-packages (from transformers<4.21.0,>=3.4.0->spacy-transformers<1.2.0,>=1.1.2->spacy[transformers]) (4.12.0)\n",
            "Requirement already satisfied: filelock in /usr/local/lib/python3.7/dist-packages (from transformers<4.21.0,>=3.4.0->spacy-transformers<1.2.0,>=1.1.2->spacy[transformers]) (3.7.1)\n",
            "Requirement already satisfied: pyyaml>=5.1 in /usr/local/lib/python3.7/dist-packages (from transformers<4.21.0,>=3.4.0->spacy-transformers<1.2.0,>=1.1.2->spacy[transformers]) (6.0)\n",
            "Requirement already satisfied: click<9.0.0,>=7.1.1 in /usr/local/lib/python3.7/dist-packages (from typer<0.5.0,>=0.3.0->spacy[transformers]) (7.1.2)\n",
            "Requirement already satisfied: MarkupSafe>=0.23 in /usr/local/lib/python3.7/dist-packages (from jinja2->spacy[transformers]) (2.0.1)\n"
          ]
        }
      ]
    },
    {
      "cell_type": "code",
      "execution_count": null,
      "metadata": {
        "id": "nqgwZyuet6lg"
      },
      "outputs": [],
      "source": [
        "#Libraries\n",
        "import spacy\n",
        "import pandas as pd\n",
        "from spacy import displacy\n",
        "import torch\n",
        "from torch import nn\n",
        "from torch.utils.data import DataLoader\n",
        "from torchvision import datasets\n",
        "from torchvision.transforms import ToTensor"
      ]
    },
    {
      "cell_type": "markdown",
      "source": [
        "### Loading and Initializing the model\n",
        "Here we need load the model and assing it to a variable called nlp. This way is easier to work with.  "
      ],
      "metadata": {
        "id": "cP_UIoRtve7f"
      }
    },
    {
      "cell_type": "markdown",
      "source": [
        "## Please go to this link and download the model and save it your colab path and load it as the example below. This is the link to download the model:\n",
        "https://drive.google.com/drive/folders/1iO3qA9XppRrnOqZWrrDyWXuIVpr7FzEJ?usp=sharing "
      ],
      "metadata": {
        "id": "Vh11IRaZPEcc"
      }
    },
    {
      "cell_type": "code",
      "source": [
        "#Loading the model\n",
        "nlp = spacy.load('/content/drive/MyDrive/Brainnerd_model/model-best')"
      ],
      "metadata": {
        "colab": {
          "base_uri": "https://localhost:8080/"
        },
        "id": "3Gue20RiveCE",
        "outputId": "d16dc253-b322-4c4a-ea8d-beb1ab01ad22"
      },
      "execution_count": null,
      "outputs": [
        {
          "output_type": "stream",
          "name": "stderr",
          "text": [
            "/usr/local/lib/python3.7/dist-packages/spacy/util.py:837: UserWarning: [W095] Model 'en_pipeline' (0.0.0) was trained with spaCy v3.0 and may not be 100% compatible with the current version (3.3.1). If you see errors or degraded performance, download a newer compatible model or retrain your custom model with the current spaCy version. For more details and available updates, run: python -m spacy validate\n",
            "  warnings.warn(warn_msg)\n",
            "/usr/local/lib/python3.7/dist-packages/spacy_transformers/pipeline_component.py:406: UserWarning: Automatically converting a transformer component from spacy-transformers v1.0 to v1.1+. If you see errors or degraded performance, download a newer compatible model or retrain your custom model with the current spacy-transformers version. For more details and available updates, run: python -m spacy validate\n",
            "  warnings.warn(warn_msg)\n"
          ]
        }
      ]
    },
    {
      "cell_type": "markdown",
      "source": [
        "### Report preprocessing\n",
        "We can submit our report without preprocessing, which is totally fine. However, sometimes we just want the **Findings or only the Impressions** with the date and time or we want both for our analysis. For this, we created some functions that will help us get what we want to use from the report. We just need to load the brainner_helper_functions file to use those functions. Please feel free to modify them if you need to."
      ],
      "metadata": {
        "id": "TrwbwvXzv2k8"
      }
    },
    {
      "cell_type": "markdown",
      "source": [
        "### Preprocessing to get the findings\n",
        "Here we are going to assing our report to a variable called ct_rep1"
      ],
      "metadata": {
        "id": "bk4N6O1gv_8t"
      }
    },
    {
      "cell_type": "code",
      "source": [
        "ct_rep1 = (\"\"\"CT HEAD WO IV CONTRAST performed on Date:  10/27/2029 5:12 AM\n",
        "          \n",
        "INDICATION: Intracranial hemorrhage, follow-up\n",
        " \n",
        "COMPARISON: CT Head dated 9/24/2079 at 1:53 AM\n",
        " \n",
        "TECHNIQUE:\n",
        "Serial axial images were obtained from the skull base to the vertex without the administration of intravenous contrast.  Coronal and sagittal reconstructions are provided.\n",
        " \n",
        "FINDINGS:\n",
        " \n",
        "There is redemonstration of a 1 cm epidural hematoma along the right anterior temporal pole, which is stable from the prior exam. There is stable appearance of a right temporal lobe parenchymal hemorrhagic contusion measuring approximately 4.6 cm, previously 1.9 cm. Subarachnoid hemorrhage within the left temporal lobe and hematoma along the left temporal convexity appear unchanged. A small amount of hemorrhage is again seen layering along the left tentorium.\n",
        " \n",
        "The ventricle and sulci are symmetric and normal in size. There is no midline shift.\n",
        " \n",
        "Partial hemorrhagic opacification of the paranasal sinuses noted. Partial hemorrhagic/fluid opacification of the right mastoid air cells.\n",
        " \n",
        "   \n",
        "IMPRESSION:\n",
        "Stable multicompartmental hemorrhages as detailed. No new intracranial hemorrhage.\n",
        " \n",
        "Reported By:  Myself, MD\n",
        " \n",
        "Reported And Signed By: Myself, MD\"\"\")"
      ],
      "metadata": {
        "id": "KkswOUSxwChX"
      },
      "execution_count": null,
      "outputs": []
    },
    {
      "cell_type": "markdown",
      "source": [
        "### At the end of the file there is cell that containst all the functions we are going to use please run that cell to continue with this tutorial"
      ],
      "metadata": {
        "id": "0EgE0d1SwH-E"
      }
    },
    {
      "cell_type": "markdown",
      "source": [
        "Now we are going to use some of the functions in order to preprocess the Reports"
      ],
      "metadata": {
        "id": "Dy7O-aCzPqbr"
      }
    },
    {
      "cell_type": "code",
      "source": [
        "# Assigning the function findinds_impressions_dates to variable \n",
        "ct1 = findinds_impressions_dates(ct_rep1)"
      ],
      "metadata": {
        "colab": {
          "base_uri": "https://localhost:8080/"
        },
        "id": "ICjaOvbnwGEz",
        "outputId": "9a199aee-b6a8-496c-dabc-ec0a5c4d3751"
      },
      "execution_count": null,
      "outputs": [
        {
          "output_type": "stream",
          "name": "stderr",
          "text": [
            "/usr/local/lib/python3.7/dist-packages/torch/amp/autocast_mode.py:198: UserWarning: User provided device_type of 'cuda', but CUDA is not available. Disabling\n",
            "  warnings.warn('User provided device_type of \\'cuda\\', but CUDA is not available. Disabling')\n"
          ]
        }
      ]
    },
    {
      "cell_type": "markdown",
      "source": [
        "This function as many other functions in the brainner_helper_functions file will return an spacy object. You can read the documentation of each funtion. Basically the function does the filter and assig the results to the model object. ``` filtered_data = nlp(ct_report1)``` "
      ],
      "metadata": {
        "id": "7J16VkGpwW55"
      }
    },
    {
      "cell_type": "code",
      "source": [
        "#Lets display the results of this function\n",
        "ct1"
      ],
      "metadata": {
        "colab": {
          "base_uri": "https://localhost:8080/"
        },
        "id": "mKAypGqjwYSG",
        "outputId": "a3757919-facd-499e-f253-eafdecb6f6cf"
      },
      "execution_count": null,
      "outputs": [
        {
          "output_type": "execute_result",
          "data": {
            "text/plain": [
              "dated 9/24/2079 at 1:53 am\n",
              " \n",
              "there is redemonstration of a 1 cm epidural hematoma along the right anterior temporal pole, which is stable from the prior exam. there is stable appearance of a right temporal lobe parenchymal hemorrhagic contusion measuring approximately 4.6 cm, previously 1.9 cm. subarachnoid hemorrhage within the left temporal lobe and hematoma along the left temporal convexity appear unchanged. a small amount of hemorrhage is again seen layering along the left tentorium.\n",
              " \n",
              "the ventricle and sulci are symmetric and normal in size. there is no midline shift.\n",
              " \n",
              "partial hemorrhagic opacification of the paranasal sinuses noted. partial hemorrhagic/fluid opacification of the right mastoid air cells.\n",
              " \n",
              "   \n",
              "impression:\n",
              "stable multicompartmental hemorrhages as detailed. no new intracranial hemorrhage.\n",
              " \n",
              "reported by:  myself, md\n",
              " \n",
              "reported and signed by: myself, md"
            ]
          },
          "metadata": {},
          "execution_count": 9
        }
      ]
    },
    {
      "cell_type": "markdown",
      "source": [
        "## Visualizing our model results\n",
        "\n",
        "Below we are using a function from spaCy to visualize our results."
      ],
      "metadata": {
        "id": "ul2mNu89xEqe"
      }
    },
    {
      "cell_type": "code",
      "source": [
        "#Visualizing the name entities\n",
        "displacy.render(ct1, style='ent', jupyter=True , options = Options)"
      ],
      "metadata": {
        "colab": {
          "base_uri": "https://localhost:8080/",
          "height": 717
        },
        "id": "7XNgbGQdxHoy",
        "outputId": "7b414b81-ff29-4e8b-dada-4d4b2ba24178"
      },
      "execution_count": null,
      "outputs": [
        {
          "output_type": "display_data",
          "data": {
            "text/plain": [
              "<IPython.core.display.HTML object>"
            ],
            "text/html": [
              "<span class=\"tex2jax_ignore\"><div class=\"entities\" style=\"line-height: 2.5; direction: ltr\">dated \n",
              "<mark class=\"entity\" style=\"background: #ffff00; padding: 0.45em 0.6em; margin: 0 0.25em; line-height: 1; border-radius: 0.35em;\">\n",
              "    9/24/2079\n",
              "    <span style=\"font-size: 0.8em; font-weight: bold; line-height: 1; border-radius: 0.35em; vertical-align: middle; margin-left: 0.5rem\">Date</span>\n",
              "</mark>\n",
              " at \n",
              "<mark class=\"entity\" style=\"background: #d5ff00; padding: 0.45em 0.6em; margin: 0 0.25em; line-height: 1; border-radius: 0.35em;\">\n",
              "    1:53 am\n",
              "    <span style=\"font-size: 0.8em; font-weight: bold; line-height: 1; border-radius: 0.35em; vertical-align: middle; margin-left: 0.5rem\">Time</span>\n",
              "</mark>\n",
              "</br> </br>there is redemonstration of a \n",
              "<mark class=\"entity\" style=\"background: #00eb78; padding: 0.45em 0.6em; margin: 0 0.25em; line-height: 1; border-radius: 0.35em;\">\n",
              "    1 cm\n",
              "    <span style=\"font-size: 0.8em; font-weight: bold; line-height: 1; border-radius: 0.35em; vertical-align: middle; margin-left: 0.5rem\">Size</span>\n",
              "</mark>\n",
              " \n",
              "<mark class=\"entity\" style=\"background: #fcbf81; padding: 0.45em 0.6em; margin: 0 0.25em; line-height: 1; border-radius: 0.35em;\">\n",
              "    epidural\n",
              "    <span style=\"font-size: 0.8em; font-weight: bold; line-height: 1; border-radius: 0.35em; vertical-align: middle; margin-left: 0.5rem\">Compart-ExtAx</span>\n",
              "</mark>\n",
              " \n",
              "<mark class=\"entity\" style=\"background: #eb0087; padding: 0.45em 0.6em; margin: 0 0.25em; line-height: 1; border-radius: 0.35em;\">\n",
              "    hematoma\n",
              "    <span style=\"font-size: 0.8em; font-weight: bold; line-height: 1; border-radius: 0.35em; vertical-align: middle; margin-left: 0.5rem\">Hemorrhage</span>\n",
              "</mark>\n",
              " along the \n",
              "<mark class=\"entity\" style=\"background: #ff6500; padding: 0.45em 0.6em; margin: 0 0.25em; line-height: 1; border-radius: 0.35em;\">\n",
              "    right\n",
              "    <span style=\"font-size: 0.8em; font-weight: bold; line-height: 1; border-radius: 0.35em; vertical-align: middle; margin-left: 0.5rem\">Direction</span>\n",
              "</mark>\n",
              " \n",
              "<mark class=\"entity\" style=\"background: #ff6500; padding: 0.45em 0.6em; margin: 0 0.25em; line-height: 1; border-radius: 0.35em;\">\n",
              "    anterior\n",
              "    <span style=\"font-size: 0.8em; font-weight: bold; line-height: 1; border-radius: 0.35em; vertical-align: middle; margin-left: 0.5rem\">Direction</span>\n",
              "</mark>\n",
              " \n",
              "<mark class=\"entity\" style=\"background: #b65d04; padding: 0.45em 0.6em; margin: 0 0.25em; line-height: 1; border-radius: 0.35em;\">\n",
              "    temporal\n",
              "    <span style=\"font-size: 0.8em; font-weight: bold; line-height: 1; border-radius: 0.35em; vertical-align: middle; margin-left: 0.5rem\">Region</span>\n",
              "</mark>\n",
              " pole, which is \n",
              "<mark class=\"entity\" style=\"background: #8ed478; padding: 0.45em 0.6em; margin: 0 0.25em; line-height: 1; border-radius: 0.35em;\">\n",
              "    stable\n",
              "    <span style=\"font-size: 0.8em; font-weight: bold; line-height: 1; border-radius: 0.35em; vertical-align: middle; margin-left: 0.5rem\">Mag-Same</span>\n",
              "</mark>\n",
              " from the \n",
              "<mark class=\"entity\" style=\"background: #fac523; padding: 0.45em 0.6em; margin: 0 0.25em; line-height: 1; border-radius: 0.35em;\">\n",
              "    prior\n",
              "    <span style=\"font-size: 0.8em; font-weight: bold; line-height: 1; border-radius: 0.35em; vertical-align: middle; margin-left: 0.5rem\">Dur-Old</span>\n",
              "</mark>\n",
              " exam\n",
              "<mark class=\"entity\" style=\"background: #f6f6f6; padding: 0.45em 0.6em; margin: 0 0.25em; line-height: 1; border-radius: 0.35em;\">\n",
              "    .\n",
              "    <span style=\"font-size: 0.8em; font-weight: bold; line-height: 1; border-radius: 0.35em; vertical-align: middle; margin-left: 0.5rem\">Endl</span>\n",
              "</mark>\n",
              " there is \n",
              "<mark class=\"entity\" style=\"background: #8ed478; padding: 0.45em 0.6em; margin: 0 0.25em; line-height: 1; border-radius: 0.35em;\">\n",
              "    stable\n",
              "    <span style=\"font-size: 0.8em; font-weight: bold; line-height: 1; border-radius: 0.35em; vertical-align: middle; margin-left: 0.5rem\">Mag-Same</span>\n",
              "</mark>\n",
              " appearance of a \n",
              "<mark class=\"entity\" style=\"background: #ff6500; padding: 0.45em 0.6em; margin: 0 0.25em; line-height: 1; border-radius: 0.35em;\">\n",
              "    right\n",
              "    <span style=\"font-size: 0.8em; font-weight: bold; line-height: 1; border-radius: 0.35em; vertical-align: middle; margin-left: 0.5rem\">Direction</span>\n",
              "</mark>\n",
              " \n",
              "<mark class=\"entity\" style=\"background: #b65d04; padding: 0.45em 0.6em; margin: 0 0.25em; line-height: 1; border-radius: 0.35em;\">\n",
              "    temporal\n",
              "    <span style=\"font-size: 0.8em; font-weight: bold; line-height: 1; border-radius: 0.35em; vertical-align: middle; margin-left: 0.5rem\">Region</span>\n",
              "</mark>\n",
              " \n",
              "<mark class=\"entity\" style=\"background: #fa8e21; padding: 0.45em 0.6em; margin: 0 0.25em; line-height: 1; border-radius: 0.35em;\">\n",
              "    lobe\n",
              "    <span style=\"font-size: 0.8em; font-weight: bold; line-height: 1; border-radius: 0.35em; vertical-align: middle; margin-left: 0.5rem\">Compart-IntAx</span>\n",
              "</mark>\n",
              " \n",
              "<mark class=\"entity\" style=\"background: #fa8e21; padding: 0.45em 0.6em; margin: 0 0.25em; line-height: 1; border-radius: 0.35em;\">\n",
              "    parenchymal\n",
              "    <span style=\"font-size: 0.8em; font-weight: bold; line-height: 1; border-radius: 0.35em; vertical-align: middle; margin-left: 0.5rem\">Compart-IntAx</span>\n",
              "</mark>\n",
              " \n",
              "<mark class=\"entity\" style=\"background: #eb0087; padding: 0.45em 0.6em; margin: 0 0.25em; line-height: 1; border-radius: 0.35em;\">\n",
              "    hemorrhagic\n",
              "    <span style=\"font-size: 0.8em; font-weight: bold; line-height: 1; border-radius: 0.35em; vertical-align: middle; margin-left: 0.5rem\">Hemorrhage</span>\n",
              "</mark>\n",
              " \n",
              "<mark class=\"entity\" style=\"background: #609ed8; padding: 0.45em 0.6em; margin: 0 0.25em; line-height: 1; border-radius: 0.35em;\">\n",
              "    contusion\n",
              "    <span style=\"font-size: 0.8em; font-weight: bold; line-height: 1; border-radius: 0.35em; vertical-align: middle; margin-left: 0.5rem\">Contusion</span>\n",
              "</mark>\n",
              " measuring approximately \n",
              "<mark class=\"entity\" style=\"background: #00eb78; padding: 0.45em 0.6em; margin: 0 0.25em; line-height: 1; border-radius: 0.35em;\">\n",
              "    4.6 cm\n",
              "    <span style=\"font-size: 0.8em; font-weight: bold; line-height: 1; border-radius: 0.35em; vertical-align: middle; margin-left: 0.5rem\">Size</span>\n",
              "</mark>\n",
              ", \n",
              "<mark class=\"entity\" style=\"background: #fac523; padding: 0.45em 0.6em; margin: 0 0.25em; line-height: 1; border-radius: 0.35em;\">\n",
              "    previously\n",
              "    <span style=\"font-size: 0.8em; font-weight: bold; line-height: 1; border-radius: 0.35em; vertical-align: middle; margin-left: 0.5rem\">Dur-Old</span>\n",
              "</mark>\n",
              " \n",
              "<mark class=\"entity\" style=\"background: #00eb78; padding: 0.45em 0.6em; margin: 0 0.25em; line-height: 1; border-radius: 0.35em;\">\n",
              "    1.9 cm\n",
              "    <span style=\"font-size: 0.8em; font-weight: bold; line-height: 1; border-radius: 0.35em; vertical-align: middle; margin-left: 0.5rem\">Size</span>\n",
              "</mark>\n",
              "\n",
              "<mark class=\"entity\" style=\"background: #f6f6f6; padding: 0.45em 0.6em; margin: 0 0.25em; line-height: 1; border-radius: 0.35em;\">\n",
              "    .\n",
              "    <span style=\"font-size: 0.8em; font-weight: bold; line-height: 1; border-radius: 0.35em; vertical-align: middle; margin-left: 0.5rem\">Endl</span>\n",
              "</mark>\n",
              " \n",
              "<mark class=\"entity\" style=\"background: #fcbf81; padding: 0.45em 0.6em; margin: 0 0.25em; line-height: 1; border-radius: 0.35em;\">\n",
              "    subarachnoid\n",
              "    <span style=\"font-size: 0.8em; font-weight: bold; line-height: 1; border-radius: 0.35em; vertical-align: middle; margin-left: 0.5rem\">Compart-ExtAx</span>\n",
              "</mark>\n",
              " \n",
              "<mark class=\"entity\" style=\"background: #eb0087; padding: 0.45em 0.6em; margin: 0 0.25em; line-height: 1; border-radius: 0.35em;\">\n",
              "    hemorrhage\n",
              "    <span style=\"font-size: 0.8em; font-weight: bold; line-height: 1; border-radius: 0.35em; vertical-align: middle; margin-left: 0.5rem\">Hemorrhage</span>\n",
              "</mark>\n",
              " within the \n",
              "<mark class=\"entity\" style=\"background: #ff6500; padding: 0.45em 0.6em; margin: 0 0.25em; line-height: 1; border-radius: 0.35em;\">\n",
              "    left\n",
              "    <span style=\"font-size: 0.8em; font-weight: bold; line-height: 1; border-radius: 0.35em; vertical-align: middle; margin-left: 0.5rem\">Direction</span>\n",
              "</mark>\n",
              " \n",
              "<mark class=\"entity\" style=\"background: #b65d04; padding: 0.45em 0.6em; margin: 0 0.25em; line-height: 1; border-radius: 0.35em;\">\n",
              "    temporal\n",
              "    <span style=\"font-size: 0.8em; font-weight: bold; line-height: 1; border-radius: 0.35em; vertical-align: middle; margin-left: 0.5rem\">Region</span>\n",
              "</mark>\n",
              " \n",
              "<mark class=\"entity\" style=\"background: #fa8e21; padding: 0.45em 0.6em; margin: 0 0.25em; line-height: 1; border-radius: 0.35em;\">\n",
              "    lobe\n",
              "    <span style=\"font-size: 0.8em; font-weight: bold; line-height: 1; border-radius: 0.35em; vertical-align: middle; margin-left: 0.5rem\">Compart-IntAx</span>\n",
              "</mark>\n",
              " and \n",
              "<mark class=\"entity\" style=\"background: #eb0087; padding: 0.45em 0.6em; margin: 0 0.25em; line-height: 1; border-radius: 0.35em;\">\n",
              "    hematoma\n",
              "    <span style=\"font-size: 0.8em; font-weight: bold; line-height: 1; border-radius: 0.35em; vertical-align: middle; margin-left: 0.5rem\">Hemorrhage</span>\n",
              "</mark>\n",
              " along the \n",
              "<mark class=\"entity\" style=\"background: #ff6500; padding: 0.45em 0.6em; margin: 0 0.25em; line-height: 1; border-radius: 0.35em;\">\n",
              "    left\n",
              "    <span style=\"font-size: 0.8em; font-weight: bold; line-height: 1; border-radius: 0.35em; vertical-align: middle; margin-left: 0.5rem\">Direction</span>\n",
              "</mark>\n",
              " \n",
              "<mark class=\"entity\" style=\"background: #b65d04; padding: 0.45em 0.6em; margin: 0 0.25em; line-height: 1; border-radius: 0.35em;\">\n",
              "    temporal\n",
              "    <span style=\"font-size: 0.8em; font-weight: bold; line-height: 1; border-radius: 0.35em; vertical-align: middle; margin-left: 0.5rem\">Region</span>\n",
              "</mark>\n",
              " convexity appear \n",
              "<mark class=\"entity\" style=\"background: #8ed478; padding: 0.45em 0.6em; margin: 0 0.25em; line-height: 1; border-radius: 0.35em;\">\n",
              "    unchanged\n",
              "    <span style=\"font-size: 0.8em; font-weight: bold; line-height: 1; border-radius: 0.35em; vertical-align: middle; margin-left: 0.5rem\">Mag-Same</span>\n",
              "</mark>\n",
              "\n",
              "<mark class=\"entity\" style=\"background: #f6f6f6; padding: 0.45em 0.6em; margin: 0 0.25em; line-height: 1; border-radius: 0.35em;\">\n",
              "    .\n",
              "    <span style=\"font-size: 0.8em; font-weight: bold; line-height: 1; border-radius: 0.35em; vertical-align: middle; margin-left: 0.5rem\">Endl</span>\n",
              "</mark>\n",
              " a \n",
              "<mark class=\"entity\" style=\"background: #00e8eb; padding: 0.45em 0.6em; margin: 0 0.25em; line-height: 1; border-radius: 0.35em;\">\n",
              "    small\n",
              "    <span style=\"font-size: 0.8em; font-weight: bold; line-height: 1; border-radius: 0.35em; vertical-align: middle; margin-left: 0.5rem\">Mag-Small</span>\n",
              "</mark>\n",
              " amount of \n",
              "<mark class=\"entity\" style=\"background: #eb0087; padding: 0.45em 0.6em; margin: 0 0.25em; line-height: 1; border-radius: 0.35em;\">\n",
              "    hemorrhage\n",
              "    <span style=\"font-size: 0.8em; font-weight: bold; line-height: 1; border-radius: 0.35em; vertical-align: middle; margin-left: 0.5rem\">Hemorrhage</span>\n",
              "</mark>\n",
              " is \n",
              "<mark class=\"entity\" style=\"background: #fac523; padding: 0.45em 0.6em; margin: 0 0.25em; line-height: 1; border-radius: 0.35em;\">\n",
              "    again\n",
              "    <span style=\"font-size: 0.8em; font-weight: bold; line-height: 1; border-radius: 0.35em; vertical-align: middle; margin-left: 0.5rem\">Dur-Old</span>\n",
              "</mark>\n",
              " seen layering along the \n",
              "<mark class=\"entity\" style=\"background: #ff6500; padding: 0.45em 0.6em; margin: 0 0.25em; line-height: 1; border-radius: 0.35em;\">\n",
              "    left\n",
              "    <span style=\"font-size: 0.8em; font-weight: bold; line-height: 1; border-radius: 0.35em; vertical-align: middle; margin-left: 0.5rem\">Direction</span>\n",
              "</mark>\n",
              " \n",
              "<mark class=\"entity\" style=\"background: #fcbf81; padding: 0.45em 0.6em; margin: 0 0.25em; line-height: 1; border-radius: 0.35em;\">\n",
              "    tentorium\n",
              "    <span style=\"font-size: 0.8em; font-weight: bold; line-height: 1; border-radius: 0.35em; vertical-align: middle; margin-left: 0.5rem\">Compart-ExtAx</span>\n",
              "</mark>\n",
              "\n",
              "<mark class=\"entity\" style=\"background: #f6f6f6; padding: 0.45em 0.6em; margin: 0 0.25em; line-height: 1; border-radius: 0.35em;\">\n",
              "    .\n",
              "    <span style=\"font-size: 0.8em; font-weight: bold; line-height: 1; border-radius: 0.35em; vertical-align: middle; margin-left: 0.5rem\">Endl</span>\n",
              "</mark>\n",
              "</br> </br>the \n",
              "<mark class=\"entity\" style=\"background: #fcab5b; padding: 0.45em 0.6em; margin: 0 0.25em; line-height: 1; border-radius: 0.35em;\">\n",
              "    ventricle\n",
              "    <span style=\"font-size: 0.8em; font-weight: bold; line-height: 1; border-radius: 0.35em; vertical-align: middle; margin-left: 0.5rem\">Ventricle</span>\n",
              "</mark>\n",
              " and \n",
              "<mark class=\"entity\" style=\"background: #fa8e21; padding: 0.45em 0.6em; margin: 0 0.25em; line-height: 1; border-radius: 0.35em;\">\n",
              "    sulci\n",
              "    <span style=\"font-size: 0.8em; font-weight: bold; line-height: 1; border-radius: 0.35em; vertical-align: middle; margin-left: 0.5rem\">Compart-IntAx</span>\n",
              "</mark>\n",
              " are \n",
              "<mark class=\"entity\" style=\"background: #55b139; padding: 0.45em 0.6em; margin: 0 0.25em; line-height: 1; border-radius: 0.35em;\">\n",
              "    symmetric\n",
              "    <span style=\"font-size: 0.8em; font-weight: bold; line-height: 1; border-radius: 0.35em; vertical-align: middle; margin-left: 0.5rem\">Mag-Other</span>\n",
              "</mark>\n",
              " and \n",
              "<mark class=\"entity\" style=\"background: #e5f5e0; padding: 0.45em 0.6em; margin: 0 0.25em; line-height: 1; border-radius: 0.35em;\">\n",
              "    normal\n",
              "    <span style=\"font-size: 0.8em; font-weight: bold; line-height: 1; border-radius: 0.35em; vertical-align: middle; margin-left: 0.5rem\">Mag-Normal</span>\n",
              "</mark>\n",
              " in size\n",
              "<mark class=\"entity\" style=\"background: #f6f6f6; padding: 0.45em 0.6em; margin: 0 0.25em; line-height: 1; border-radius: 0.35em;\">\n",
              "    .\n",
              "    <span style=\"font-size: 0.8em; font-weight: bold; line-height: 1; border-radius: 0.35em; vertical-align: middle; margin-left: 0.5rem\">Endl</span>\n",
              "</mark>\n",
              " there is \n",
              "<mark class=\"entity\" style=\"background: #808080; padding: 0.45em 0.6em; margin: 0 0.25em; line-height: 1; border-radius: 0.35em;\">\n",
              "    no\n",
              "    <span style=\"font-size: 0.8em; font-weight: bold; line-height: 1; border-radius: 0.35em; vertical-align: middle; margin-left: 0.5rem\">Negation</span>\n",
              "</mark>\n",
              " \n",
              "<mark class=\"entity\" style=\"background: #b1b1ff; padding: 0.45em 0.6em; margin: 0 0.25em; line-height: 1; border-radius: 0.35em;\">\n",
              "    midline shift\n",
              "    <span style=\"font-size: 0.8em; font-weight: bold; line-height: 1; border-radius: 0.35em; vertical-align: middle; margin-left: 0.5rem\">MidlineShift</span>\n",
              "</mark>\n",
              "\n",
              "<mark class=\"entity\" style=\"background: #f6f6f6; padding: 0.45em 0.6em; margin: 0 0.25em; line-height: 1; border-radius: 0.35em;\">\n",
              "    .\n",
              "    <span style=\"font-size: 0.8em; font-weight: bold; line-height: 1; border-radius: 0.35em; vertical-align: middle; margin-left: 0.5rem\">Endl</span>\n",
              "</mark>\n",
              "</br> </br>\n",
              "<mark class=\"entity\" style=\"background: #ff6500; padding: 0.45em 0.6em; margin: 0 0.25em; line-height: 1; border-radius: 0.35em;\">\n",
              "    partial\n",
              "    <span style=\"font-size: 0.8em; font-weight: bold; line-height: 1; border-radius: 0.35em; vertical-align: middle; margin-left: 0.5rem\">Direction</span>\n",
              "</mark>\n",
              " \n",
              "<mark class=\"entity\" style=\"background: #eb0087; padding: 0.45em 0.6em; margin: 0 0.25em; line-height: 1; border-radius: 0.35em;\">\n",
              "    hemorrhagic\n",
              "    <span style=\"font-size: 0.8em; font-weight: bold; line-height: 1; border-radius: 0.35em; vertical-align: middle; margin-left: 0.5rem\">Hemorrhage</span>\n",
              "</mark>\n",
              " opacification of the paranasal \n",
              "<mark class=\"entity\" style=\"background: #fdd2a8; padding: 0.45em 0.6em; margin: 0 0.25em; line-height: 1; border-radius: 0.35em;\">\n",
              "    sinuses\n",
              "    <span style=\"font-size: 0.8em; font-weight: bold; line-height: 1; border-radius: 0.35em; vertical-align: middle; margin-left: 0.5rem\">Sinus</span>\n",
              "</mark>\n",
              " noted\n",
              "<mark class=\"entity\" style=\"background: #f6f6f6; padding: 0.45em 0.6em; margin: 0 0.25em; line-height: 1; border-radius: 0.35em;\">\n",
              "    .\n",
              "    <span style=\"font-size: 0.8em; font-weight: bold; line-height: 1; border-radius: 0.35em; vertical-align: middle; margin-left: 0.5rem\">Endl</span>\n",
              "</mark>\n",
              " \n",
              "<mark class=\"entity\" style=\"background: #00e8eb; padding: 0.45em 0.6em; margin: 0 0.25em; line-height: 1; border-radius: 0.35em;\">\n",
              "    partial\n",
              "    <span style=\"font-size: 0.8em; font-weight: bold; line-height: 1; border-radius: 0.35em; vertical-align: middle; margin-left: 0.5rem\">Mag-Small</span>\n",
              "</mark>\n",
              " \n",
              "<mark class=\"entity\" style=\"background: #eb0087; padding: 0.45em 0.6em; margin: 0 0.25em; line-height: 1; border-radius: 0.35em;\">\n",
              "    hemorrhagic\n",
              "    <span style=\"font-size: 0.8em; font-weight: bold; line-height: 1; border-radius: 0.35em; vertical-align: middle; margin-left: 0.5rem\">Hemorrhage</span>\n",
              "</mark>\n",
              "/fluid opacification of the \n",
              "<mark class=\"entity\" style=\"background: #ff6500; padding: 0.45em 0.6em; margin: 0 0.25em; line-height: 1; border-radius: 0.35em;\">\n",
              "    right\n",
              "    <span style=\"font-size: 0.8em; font-weight: bold; line-height: 1; border-radius: 0.35em; vertical-align: middle; margin-left: 0.5rem\">Direction</span>\n",
              "</mark>\n",
              " mastoid \n",
              "<mark class=\"entity\" style=\"background: #fdd2a8; padding: 0.45em 0.6em; margin: 0 0.25em; line-height: 1; border-radius: 0.35em;\">\n",
              "    air cells\n",
              "    <span style=\"font-size: 0.8em; font-weight: bold; line-height: 1; border-radius: 0.35em; vertical-align: middle; margin-left: 0.5rem\">Sinus</span>\n",
              "</mark>\n",
              "\n",
              "<mark class=\"entity\" style=\"background: #f6f6f6; padding: 0.45em 0.6em; margin: 0 0.25em; line-height: 1; border-radius: 0.35em;\">\n",
              "    .\n",
              "    <span style=\"font-size: 0.8em; font-weight: bold; line-height: 1; border-radius: 0.35em; vertical-align: middle; margin-left: 0.5rem\">Endl</span>\n",
              "</mark>\n",
              "</br> </br>   </br>impression:</br>\n",
              "<mark class=\"entity\" style=\"background: #8ed478; padding: 0.45em 0.6em; margin: 0 0.25em; line-height: 1; border-radius: 0.35em;\">\n",
              "    stable\n",
              "    <span style=\"font-size: 0.8em; font-weight: bold; line-height: 1; border-radius: 0.35em; vertical-align: middle; margin-left: 0.5rem\">Mag-Same</span>\n",
              "</mark>\n",
              " \n",
              "<mark class=\"entity\" style=\"background: #693502; padding: 0.45em 0.6em; margin: 0 0.25em; line-height: 1; border-radius: 0.35em;\">\n",
              "    multicompartmental\n",
              "    <span style=\"font-size: 0.8em; font-weight: bold; line-height: 1; border-radius: 0.35em; vertical-align: middle; margin-left: 0.5rem\">Compart-Other</span>\n",
              "</mark>\n",
              " \n",
              "<mark class=\"entity\" style=\"background: #eb0087; padding: 0.45em 0.6em; margin: 0 0.25em; line-height: 1; border-radius: 0.35em;\">\n",
              "    hemorrhages\n",
              "    <span style=\"font-size: 0.8em; font-weight: bold; line-height: 1; border-radius: 0.35em; vertical-align: middle; margin-left: 0.5rem\">Hemorrhage</span>\n",
              "</mark>\n",
              " as detailed\n",
              "<mark class=\"entity\" style=\"background: #f6f6f6; padding: 0.45em 0.6em; margin: 0 0.25em; line-height: 1; border-radius: 0.35em;\">\n",
              "    .\n",
              "    <span style=\"font-size: 0.8em; font-weight: bold; line-height: 1; border-radius: 0.35em; vertical-align: middle; margin-left: 0.5rem\">Endl</span>\n",
              "</mark>\n",
              " \n",
              "<mark class=\"entity\" style=\"background: #808080; padding: 0.45em 0.6em; margin: 0 0.25em; line-height: 1; border-radius: 0.35em;\">\n",
              "    no\n",
              "    <span style=\"font-size: 0.8em; font-weight: bold; line-height: 1; border-radius: 0.35em; vertical-align: middle; margin-left: 0.5rem\">Negation</span>\n",
              "</mark>\n",
              " \n",
              "<mark class=\"entity\" style=\"background: #fbd45d; padding: 0.45em 0.6em; margin: 0 0.25em; line-height: 1; border-radius: 0.35em;\">\n",
              "    new\n",
              "    <span style=\"font-size: 0.8em; font-weight: bold; line-height: 1; border-radius: 0.35em; vertical-align: middle; margin-left: 0.5rem\">Dur-New</span>\n",
              "</mark>\n",
              " \n",
              "<mark class=\"entity\" style=\"background: #693502; padding: 0.45em 0.6em; margin: 0 0.25em; line-height: 1; border-radius: 0.35em;\">\n",
              "    intracranial\n",
              "    <span style=\"font-size: 0.8em; font-weight: bold; line-height: 1; border-radius: 0.35em; vertical-align: middle; margin-left: 0.5rem\">Compart-Other</span>\n",
              "</mark>\n",
              " \n",
              "<mark class=\"entity\" style=\"background: #eb0087; padding: 0.45em 0.6em; margin: 0 0.25em; line-height: 1; border-radius: 0.35em;\">\n",
              "    hemorrhage\n",
              "    <span style=\"font-size: 0.8em; font-weight: bold; line-height: 1; border-radius: 0.35em; vertical-align: middle; margin-left: 0.5rem\">Hemorrhage</span>\n",
              "</mark>\n",
              "\n",
              "<mark class=\"entity\" style=\"background: #f6f6f6; padding: 0.45em 0.6em; margin: 0 0.25em; line-height: 1; border-radius: 0.35em;\">\n",
              "    .\n",
              "    <span style=\"font-size: 0.8em; font-weight: bold; line-height: 1; border-radius: 0.35em; vertical-align: middle; margin-left: 0.5rem\">Endl</span>\n",
              "</mark>\n",
              "</br> </br>reported by:  myself, md</br> </br>reported and signed by: myself, md</div></span>"
            ]
          },
          "metadata": {}
        }
      ]
    },
    {
      "cell_type": "markdown",
      "source": [
        "### Printing the entities and the labels in a long version\n",
        "The function expects a spaCy string"
      ],
      "metadata": {
        "id": "FSCej79jxKYd"
      }
    },
    {
      "cell_type": "code",
      "source": [
        "#Using the print entities options\n",
        "print_ents_labels(ct1)"
      ],
      "metadata": {
        "colab": {
          "base_uri": "https://localhost:8080/"
        },
        "id": "hwt7rpLWxN5N",
        "outputId": "e627cb88-636d-4e89-a2d3-6b2ebbea52ae"
      },
      "execution_count": null,
      "outputs": [
        {
          "output_type": "stream",
          "name": "stdout",
          "text": [
            "9/24/2079 --------- Date\n",
            "1:53 am --------- Time\n",
            "1 cm --------- Size\n",
            "epidural --------- Compart-ExtAx\n",
            "hematoma --------- Hemorrhage\n",
            "right --------- Direction\n",
            "anterior --------- Direction\n",
            "temporal --------- Region\n",
            "stable --------- Mag-Same\n",
            "prior --------- Dur-Old\n",
            ". --------- Endl\n",
            "stable --------- Mag-Same\n",
            "right --------- Direction\n",
            "temporal --------- Region\n",
            "lobe --------- Compart-IntAx\n",
            "parenchymal --------- Compart-IntAx\n",
            "hemorrhagic --------- Hemorrhage\n",
            "contusion --------- Contusion\n",
            "4.6 cm --------- Size\n",
            "previously --------- Dur-Old\n",
            "1.9 cm --------- Size\n",
            ". --------- Endl\n",
            "subarachnoid --------- Compart-ExtAx\n",
            "hemorrhage --------- Hemorrhage\n",
            "left --------- Direction\n",
            "temporal --------- Region\n",
            "lobe --------- Compart-IntAx\n",
            "hematoma --------- Hemorrhage\n",
            "left --------- Direction\n",
            "temporal --------- Region\n",
            "unchanged --------- Mag-Same\n",
            ". --------- Endl\n",
            "small --------- Mag-Small\n",
            "hemorrhage --------- Hemorrhage\n",
            "again --------- Dur-Old\n",
            "left --------- Direction\n",
            "tentorium --------- Compart-ExtAx\n",
            ". --------- Endl\n",
            "ventricle --------- Ventricle\n",
            "sulci --------- Compart-IntAx\n",
            "symmetric --------- Mag-Other\n",
            "normal --------- Mag-Normal\n",
            ". --------- Endl\n",
            "no --------- Negation\n",
            "midline shift --------- MidlineShift\n",
            ". --------- Endl\n",
            "partial --------- Direction\n",
            "hemorrhagic --------- Hemorrhage\n",
            "sinuses --------- Sinus\n",
            ". --------- Endl\n",
            "partial --------- Mag-Small\n",
            "hemorrhagic --------- Hemorrhage\n",
            "fluid --------- Fluid\n",
            "right --------- Direction\n",
            "air cells --------- Sinus\n",
            ". --------- Endl\n",
            "stable --------- Mag-Same\n",
            "multicompartmental --------- Compart-Other\n",
            "hemorrhages --------- Hemorrhage\n",
            ". --------- Endl\n",
            "no --------- Negation\n",
            "new --------- Dur-New\n",
            "intracranial --------- Compart-Other\n",
            "hemorrhage --------- Hemorrhage\n",
            ". --------- Endl\n"
          ]
        }
      ]
    },
    {
      "cell_type": "markdown",
      "source": [
        "### Let's see how many times the label hemorrhage appears in the ct report 1"
      ],
      "metadata": {
        "id": "W0SntG-4xRFP"
      }
    },
    {
      "cell_type": "code",
      "source": [
        "len([ent for ent in ct1.ents if ent.label_ == \"Hemorrhage\"])"
      ],
      "metadata": {
        "colab": {
          "base_uri": "https://localhost:8080/"
        },
        "id": "8T1iQZSixT97",
        "outputId": "29098937-636d-422d-c868-de96f934fa13"
      },
      "execution_count": null,
      "outputs": [
        {
          "output_type": "execute_result",
          "data": {
            "text/plain": [
              "9"
            ]
          },
          "metadata": {},
          "execution_count": 12
        }
      ]
    },
    {
      "cell_type": "markdown",
      "source": [
        "### Let's see how many times the label size appears in the ct report 1"
      ],
      "metadata": {
        "id": "qAY9j1HSxWII"
      }
    },
    {
      "cell_type": "code",
      "source": [
        "len([ent for ent in ct1.ents if ent.label_ == \"Size\"])"
      ],
      "metadata": {
        "colab": {
          "base_uri": "https://localhost:8080/"
        },
        "id": "OsdqtEsVxahk",
        "outputId": "4c82738b-2d58-48a1-8cf5-666441dfcca0"
      },
      "execution_count": null,
      "outputs": [
        {
          "output_type": "execute_result",
          "data": {
            "text/plain": [
              "3"
            ]
          },
          "metadata": {},
          "execution_count": 13
        }
      ]
    },
    {
      "cell_type": "markdown",
      "source": [
        "### Creating a Long DataFrame of the CT Report"
      ],
      "metadata": {
        "id": "acaC6PJLxdXS"
      }
    },
    {
      "cell_type": "code",
      "source": [
        "long_data(ct1)"
      ],
      "metadata": {
        "colab": {
          "base_uri": "https://localhost:8080/",
          "height": 424
        },
        "id": "OtIwGQMaxfF0",
        "outputId": "41f2853a-d74e-4ad5-d05a-852f851e12e6"
      },
      "execution_count": null,
      "outputs": [
        {
          "output_type": "execute_result",
          "data": {
            "text/plain": [
              "           Value         Entity\n",
              "0      9/24/2079           Date\n",
              "1        1:53 am           Time\n",
              "2           1 cm           Size\n",
              "3       epidural  Compart-ExtAx\n",
              "4       hematoma     Hemorrhage\n",
              "..           ...            ...\n",
              "60            no       Negation\n",
              "61           new        Dur-New\n",
              "62  intracranial  Compart-Other\n",
              "63    hemorrhage     Hemorrhage\n",
              "64             .           Endl\n",
              "\n",
              "[65 rows x 2 columns]"
            ],
            "text/html": [
              "\n",
              "  <div id=\"df-65c0f882-dd54-4312-85aa-efd07d39d657\">\n",
              "    <div class=\"colab-df-container\">\n",
              "      <div>\n",
              "<style scoped>\n",
              "    .dataframe tbody tr th:only-of-type {\n",
              "        vertical-align: middle;\n",
              "    }\n",
              "\n",
              "    .dataframe tbody tr th {\n",
              "        vertical-align: top;\n",
              "    }\n",
              "\n",
              "    .dataframe thead th {\n",
              "        text-align: right;\n",
              "    }\n",
              "</style>\n",
              "<table border=\"1\" class=\"dataframe\">\n",
              "  <thead>\n",
              "    <tr style=\"text-align: right;\">\n",
              "      <th></th>\n",
              "      <th>Value</th>\n",
              "      <th>Entity</th>\n",
              "    </tr>\n",
              "  </thead>\n",
              "  <tbody>\n",
              "    <tr>\n",
              "      <th>0</th>\n",
              "      <td>9/24/2079</td>\n",
              "      <td>Date</td>\n",
              "    </tr>\n",
              "    <tr>\n",
              "      <th>1</th>\n",
              "      <td>1:53 am</td>\n",
              "      <td>Time</td>\n",
              "    </tr>\n",
              "    <tr>\n",
              "      <th>2</th>\n",
              "      <td>1 cm</td>\n",
              "      <td>Size</td>\n",
              "    </tr>\n",
              "    <tr>\n",
              "      <th>3</th>\n",
              "      <td>epidural</td>\n",
              "      <td>Compart-ExtAx</td>\n",
              "    </tr>\n",
              "    <tr>\n",
              "      <th>4</th>\n",
              "      <td>hematoma</td>\n",
              "      <td>Hemorrhage</td>\n",
              "    </tr>\n",
              "    <tr>\n",
              "      <th>...</th>\n",
              "      <td>...</td>\n",
              "      <td>...</td>\n",
              "    </tr>\n",
              "    <tr>\n",
              "      <th>60</th>\n",
              "      <td>no</td>\n",
              "      <td>Negation</td>\n",
              "    </tr>\n",
              "    <tr>\n",
              "      <th>61</th>\n",
              "      <td>new</td>\n",
              "      <td>Dur-New</td>\n",
              "    </tr>\n",
              "    <tr>\n",
              "      <th>62</th>\n",
              "      <td>intracranial</td>\n",
              "      <td>Compart-Other</td>\n",
              "    </tr>\n",
              "    <tr>\n",
              "      <th>63</th>\n",
              "      <td>hemorrhage</td>\n",
              "      <td>Hemorrhage</td>\n",
              "    </tr>\n",
              "    <tr>\n",
              "      <th>64</th>\n",
              "      <td>.</td>\n",
              "      <td>Endl</td>\n",
              "    </tr>\n",
              "  </tbody>\n",
              "</table>\n",
              "<p>65 rows × 2 columns</p>\n",
              "</div>\n",
              "      <button class=\"colab-df-convert\" onclick=\"convertToInteractive('df-65c0f882-dd54-4312-85aa-efd07d39d657')\"\n",
              "              title=\"Convert this dataframe to an interactive table.\"\n",
              "              style=\"display:none;\">\n",
              "        \n",
              "  <svg xmlns=\"http://www.w3.org/2000/svg\" height=\"24px\"viewBox=\"0 0 24 24\"\n",
              "       width=\"24px\">\n",
              "    <path d=\"M0 0h24v24H0V0z\" fill=\"none\"/>\n",
              "    <path d=\"M18.56 5.44l.94 2.06.94-2.06 2.06-.94-2.06-.94-.94-2.06-.94 2.06-2.06.94zm-11 1L8.5 8.5l.94-2.06 2.06-.94-2.06-.94L8.5 2.5l-.94 2.06-2.06.94zm10 10l.94 2.06.94-2.06 2.06-.94-2.06-.94-.94-2.06-.94 2.06-2.06.94z\"/><path d=\"M17.41 7.96l-1.37-1.37c-.4-.4-.92-.59-1.43-.59-.52 0-1.04.2-1.43.59L10.3 9.45l-7.72 7.72c-.78.78-.78 2.05 0 2.83L4 21.41c.39.39.9.59 1.41.59.51 0 1.02-.2 1.41-.59l7.78-7.78 2.81-2.81c.8-.78.8-2.07 0-2.86zM5.41 20L4 18.59l7.72-7.72 1.47 1.35L5.41 20z\"/>\n",
              "  </svg>\n",
              "      </button>\n",
              "      \n",
              "  <style>\n",
              "    .colab-df-container {\n",
              "      display:flex;\n",
              "      flex-wrap:wrap;\n",
              "      gap: 12px;\n",
              "    }\n",
              "\n",
              "    .colab-df-convert {\n",
              "      background-color: #E8F0FE;\n",
              "      border: none;\n",
              "      border-radius: 50%;\n",
              "      cursor: pointer;\n",
              "      display: none;\n",
              "      fill: #1967D2;\n",
              "      height: 32px;\n",
              "      padding: 0 0 0 0;\n",
              "      width: 32px;\n",
              "    }\n",
              "\n",
              "    .colab-df-convert:hover {\n",
              "      background-color: #E2EBFA;\n",
              "      box-shadow: 0px 1px 2px rgba(60, 64, 67, 0.3), 0px 1px 3px 1px rgba(60, 64, 67, 0.15);\n",
              "      fill: #174EA6;\n",
              "    }\n",
              "\n",
              "    [theme=dark] .colab-df-convert {\n",
              "      background-color: #3B4455;\n",
              "      fill: #D2E3FC;\n",
              "    }\n",
              "\n",
              "    [theme=dark] .colab-df-convert:hover {\n",
              "      background-color: #434B5C;\n",
              "      box-shadow: 0px 1px 3px 1px rgba(0, 0, 0, 0.15);\n",
              "      filter: drop-shadow(0px 1px 2px rgba(0, 0, 0, 0.3));\n",
              "      fill: #FFFFFF;\n",
              "    }\n",
              "  </style>\n",
              "\n",
              "      <script>\n",
              "        const buttonEl =\n",
              "          document.querySelector('#df-65c0f882-dd54-4312-85aa-efd07d39d657 button.colab-df-convert');\n",
              "        buttonEl.style.display =\n",
              "          google.colab.kernel.accessAllowed ? 'block' : 'none';\n",
              "\n",
              "        async function convertToInteractive(key) {\n",
              "          const element = document.querySelector('#df-65c0f882-dd54-4312-85aa-efd07d39d657');\n",
              "          const dataTable =\n",
              "            await google.colab.kernel.invokeFunction('convertToInteractive',\n",
              "                                                     [key], {});\n",
              "          if (!dataTable) return;\n",
              "\n",
              "          const docLinkHtml = 'Like what you see? Visit the ' +\n",
              "            '<a target=\"_blank\" href=https://colab.research.google.com/notebooks/data_table.ipynb>data table notebook</a>'\n",
              "            + ' to learn more about interactive tables.';\n",
              "          element.innerHTML = '';\n",
              "          dataTable['output_type'] = 'display_data';\n",
              "          await google.colab.output.renderOutput(dataTable, element);\n",
              "          const docLink = document.createElement('div');\n",
              "          docLink.innerHTML = docLinkHtml;\n",
              "          element.appendChild(docLink);\n",
              "        }\n",
              "      </script>\n",
              "    </div>\n",
              "  </div>\n",
              "  "
            ]
          },
          "metadata": {},
          "execution_count": 14
        }
      ]
    },
    {
      "cell_type": "markdown",
      "source": [
        "### Creating a wide dataframe for patient 1 CT 1"
      ],
      "metadata": {
        "id": "9J-KPeQTxjco"
      }
    },
    {
      "cell_type": "code",
      "source": [
        "wide_data(ct1)"
      ],
      "metadata": {
        "colab": {
          "base_uri": "https://localhost:8080/",
          "height": 189
        },
        "id": "D0MoLy9_xlGX",
        "outputId": "34d735a8-ce41-437a-e796-800aecba57fa"
      },
      "execution_count": null,
      "outputs": [
        {
          "output_type": "execute_result",
          "data": {
            "text/plain": [
              "Entity       Date     Time  Size Compart-ExtAx Hemorrhage Direction Direction  \\\n",
              "0       9/24/2079  1:53 am  1 cm      epidural   hematoma     right  anterior   \n",
              "\n",
              "Entity    Region Mag-Same Dur-Old  ... Endl Mag-Same       Compart-Other  \\\n",
              "0       temporal   stable   prior  ...    .   stable  multicompartmental   \n",
              "\n",
              "Entity   Hemorrhage Endl Negation Dur-New Compart-Other  Hemorrhage Endl  \n",
              "0       hemorrhages    .       no     new  intracranial  hemorrhage    .  \n",
              "\n",
              "[1 rows x 65 columns]"
            ],
            "text/html": [
              "\n",
              "  <div id=\"df-90ddcfe0-c6a0-4bd7-8a1b-f4d3de1c55e0\">\n",
              "    <div class=\"colab-df-container\">\n",
              "      <div>\n",
              "<style scoped>\n",
              "    .dataframe tbody tr th:only-of-type {\n",
              "        vertical-align: middle;\n",
              "    }\n",
              "\n",
              "    .dataframe tbody tr th {\n",
              "        vertical-align: top;\n",
              "    }\n",
              "\n",
              "    .dataframe thead th {\n",
              "        text-align: right;\n",
              "    }\n",
              "</style>\n",
              "<table border=\"1\" class=\"dataframe\">\n",
              "  <thead>\n",
              "    <tr style=\"text-align: right;\">\n",
              "      <th>Entity</th>\n",
              "      <th>Date</th>\n",
              "      <th>Time</th>\n",
              "      <th>Size</th>\n",
              "      <th>Compart-ExtAx</th>\n",
              "      <th>Hemorrhage</th>\n",
              "      <th>Direction</th>\n",
              "      <th>Direction</th>\n",
              "      <th>Region</th>\n",
              "      <th>Mag-Same</th>\n",
              "      <th>Dur-Old</th>\n",
              "      <th>...</th>\n",
              "      <th>Endl</th>\n",
              "      <th>Mag-Same</th>\n",
              "      <th>Compart-Other</th>\n",
              "      <th>Hemorrhage</th>\n",
              "      <th>Endl</th>\n",
              "      <th>Negation</th>\n",
              "      <th>Dur-New</th>\n",
              "      <th>Compart-Other</th>\n",
              "      <th>Hemorrhage</th>\n",
              "      <th>Endl</th>\n",
              "    </tr>\n",
              "  </thead>\n",
              "  <tbody>\n",
              "    <tr>\n",
              "      <th>0</th>\n",
              "      <td>9/24/2079</td>\n",
              "      <td>1:53 am</td>\n",
              "      <td>1 cm</td>\n",
              "      <td>epidural</td>\n",
              "      <td>hematoma</td>\n",
              "      <td>right</td>\n",
              "      <td>anterior</td>\n",
              "      <td>temporal</td>\n",
              "      <td>stable</td>\n",
              "      <td>prior</td>\n",
              "      <td>...</td>\n",
              "      <td>.</td>\n",
              "      <td>stable</td>\n",
              "      <td>multicompartmental</td>\n",
              "      <td>hemorrhages</td>\n",
              "      <td>.</td>\n",
              "      <td>no</td>\n",
              "      <td>new</td>\n",
              "      <td>intracranial</td>\n",
              "      <td>hemorrhage</td>\n",
              "      <td>.</td>\n",
              "    </tr>\n",
              "  </tbody>\n",
              "</table>\n",
              "<p>1 rows × 65 columns</p>\n",
              "</div>\n",
              "      <button class=\"colab-df-convert\" onclick=\"convertToInteractive('df-90ddcfe0-c6a0-4bd7-8a1b-f4d3de1c55e0')\"\n",
              "              title=\"Convert this dataframe to an interactive table.\"\n",
              "              style=\"display:none;\">\n",
              "        \n",
              "  <svg xmlns=\"http://www.w3.org/2000/svg\" height=\"24px\"viewBox=\"0 0 24 24\"\n",
              "       width=\"24px\">\n",
              "    <path d=\"M0 0h24v24H0V0z\" fill=\"none\"/>\n",
              "    <path d=\"M18.56 5.44l.94 2.06.94-2.06 2.06-.94-2.06-.94-.94-2.06-.94 2.06-2.06.94zm-11 1L8.5 8.5l.94-2.06 2.06-.94-2.06-.94L8.5 2.5l-.94 2.06-2.06.94zm10 10l.94 2.06.94-2.06 2.06-.94-2.06-.94-.94-2.06-.94 2.06-2.06.94z\"/><path d=\"M17.41 7.96l-1.37-1.37c-.4-.4-.92-.59-1.43-.59-.52 0-1.04.2-1.43.59L10.3 9.45l-7.72 7.72c-.78.78-.78 2.05 0 2.83L4 21.41c.39.39.9.59 1.41.59.51 0 1.02-.2 1.41-.59l7.78-7.78 2.81-2.81c.8-.78.8-2.07 0-2.86zM5.41 20L4 18.59l7.72-7.72 1.47 1.35L5.41 20z\"/>\n",
              "  </svg>\n",
              "      </button>\n",
              "      \n",
              "  <style>\n",
              "    .colab-df-container {\n",
              "      display:flex;\n",
              "      flex-wrap:wrap;\n",
              "      gap: 12px;\n",
              "    }\n",
              "\n",
              "    .colab-df-convert {\n",
              "      background-color: #E8F0FE;\n",
              "      border: none;\n",
              "      border-radius: 50%;\n",
              "      cursor: pointer;\n",
              "      display: none;\n",
              "      fill: #1967D2;\n",
              "      height: 32px;\n",
              "      padding: 0 0 0 0;\n",
              "      width: 32px;\n",
              "    }\n",
              "\n",
              "    .colab-df-convert:hover {\n",
              "      background-color: #E2EBFA;\n",
              "      box-shadow: 0px 1px 2px rgba(60, 64, 67, 0.3), 0px 1px 3px 1px rgba(60, 64, 67, 0.15);\n",
              "      fill: #174EA6;\n",
              "    }\n",
              "\n",
              "    [theme=dark] .colab-df-convert {\n",
              "      background-color: #3B4455;\n",
              "      fill: #D2E3FC;\n",
              "    }\n",
              "\n",
              "    [theme=dark] .colab-df-convert:hover {\n",
              "      background-color: #434B5C;\n",
              "      box-shadow: 0px 1px 3px 1px rgba(0, 0, 0, 0.15);\n",
              "      filter: drop-shadow(0px 1px 2px rgba(0, 0, 0, 0.3));\n",
              "      fill: #FFFFFF;\n",
              "    }\n",
              "  </style>\n",
              "\n",
              "      <script>\n",
              "        const buttonEl =\n",
              "          document.querySelector('#df-90ddcfe0-c6a0-4bd7-8a1b-f4d3de1c55e0 button.colab-df-convert');\n",
              "        buttonEl.style.display =\n",
              "          google.colab.kernel.accessAllowed ? 'block' : 'none';\n",
              "\n",
              "        async function convertToInteractive(key) {\n",
              "          const element = document.querySelector('#df-90ddcfe0-c6a0-4bd7-8a1b-f4d3de1c55e0');\n",
              "          const dataTable =\n",
              "            await google.colab.kernel.invokeFunction('convertToInteractive',\n",
              "                                                     [key], {});\n",
              "          if (!dataTable) return;\n",
              "\n",
              "          const docLinkHtml = 'Like what you see? Visit the ' +\n",
              "            '<a target=\"_blank\" href=https://colab.research.google.com/notebooks/data_table.ipynb>data table notebook</a>'\n",
              "            + ' to learn more about interactive tables.';\n",
              "          element.innerHTML = '';\n",
              "          dataTable['output_type'] = 'display_data';\n",
              "          await google.colab.output.renderOutput(dataTable, element);\n",
              "          const docLink = document.createElement('div');\n",
              "          docLink.innerHTML = docLinkHtml;\n",
              "          element.appendChild(docLink);\n",
              "        }\n",
              "      </script>\n",
              "    </div>\n",
              "  </div>\n",
              "  "
            ]
          },
          "metadata": {},
          "execution_count": 15
        }
      ]
    },
    {
      "cell_type": "markdown",
      "source": [
        "## List of functions that we use and that can be usefull for your project"
      ],
      "metadata": {
        "id": "gSjHVh7Txl5t"
      }
    },
    {
      "cell_type": "code",
      "source": [
        "def findings_dates(string):\n",
        "\n",
        "    \"\"\"_summary_: This function will output the findings and the dates as a Spacy object. It takes the CT scan results and returns only \n",
        "    the findings area of the report. If you want to see the findings and the impressions, you can use\n",
        "    the function 'findinds_impressions_dates'\n",
        "    ** Important: Here we lowercase the string to make it easier to find the findings.**\n",
        "\n",
        "    Returns\n",
        "    Spacy object: The findings and the dates of the CT scan.\n",
        "    -------\n",
        "    _type_\n",
        "    String\n",
        "        _description_\n",
        "    \"\"\"\n",
        "\n",
        "    s = string.lower()\n",
        "    first = \"findings\"\n",
        "    last = \"impression\"\n",
        "    d1 = s.rfind(\"date\")\n",
        "    e1 = s.rfind(\"date\") + 26 \n",
        "    start = s.rfind(first) + len(first)\n",
        "    end = s.rfind(last, start)\n",
        "    date = s[d1:e1]\n",
        "    findings = s[start:end].strip(\":\")\n",
        "    #return findings, date\n",
        "    return nlp(date+findings)\n",
        "\n",
        "\n",
        "def long_data(report):\n",
        "    \"\"\"_summary_\n",
        "    This function creates a long dataframe with the entities and their labels.\n",
        "\n",
        "    Parameters\n",
        "    An spacy object. Meaning a CT report in the form of a Spacy object.\n",
        "    Example: report1 = nlp(your_report)\n",
        "     ---------\n",
        "     _returns_\n",
        "    Dataframe: A long dataframe with the entities and their labels.\n",
        "    \"\"\" \n",
        "\n",
        "\n",
        "    l1 = []\n",
        "    col1 = []\n",
        "    for ent in report.ents:\n",
        "        l1.append(ent.text)\n",
        "        col1.append(ent.label_)\n",
        "        df1 = pd.DataFrame(list(zip(l1, col1)), columns =['Value', 'Entity'])\n",
        "    return(df1)\n",
        "\n",
        "def wide_data_matrix(report):\n",
        "\n",
        "    \"\"\"_summary_\n",
        "    This function creates a wide dataframe with the entities and their labels.\n",
        "\n",
        "    Parameters\n",
        "    An spacy object. Meaning a CT report in the form of a Spacy object.\n",
        "    Example: report1 = nlp(your_report)\n",
        "     ---------\n",
        "     _returns_\n",
        "    Dataframe: A long dataframe with the entities and their labels.\n",
        "    \"\"\" \n",
        "\n",
        "    l1 = []\n",
        "    col1 = []\n",
        "    for ent in report.ents:\n",
        "        l1.append(ent.text)\n",
        "        col1.append(ent.label_)\n",
        "        df1 = pd.DataFrame(list(zip(l1, col1)), columns =['Value', 'Entity'])\n",
        "        df2 = df1.pivot( columns='Entity', values='Value')\n",
        "    return(df2)\n",
        "\n",
        "def wide_data(report):\n",
        "    \"\"\"_summary_\n",
        "    This function creates a wide version of the long dataframe. \n",
        "    It does not create new names for the columns.\n",
        "\n",
        "    Parameters\n",
        "    A long dataframe. with enties and their labels.\n",
        "\n",
        "    ----------\n",
        "     _type_: Dataframe\n",
        "\n",
        "        _returns_: A wide dataframe.\n",
        "    \"\"\"    \n",
        "\n",
        "    df = long_data(report)\n",
        "    transp = pd.DataFrame(df.T)\n",
        "    header_row = transp.iloc[1]\n",
        "    df2 = pd.DataFrame(transp.values[0:], columns=header_row)[:1]\n",
        "    return(df2)\n",
        "\n",
        "\n",
        "def print_ents_labels(doc):\n",
        "    \"\"\"_summary_\n",
        "    This function just the entities and their labels.\n",
        "\n",
        "    Parameters\n",
        "    An spacy object. Meaning a CT report in the form of a Spacy object.\n",
        "    Example: report1 = nlp(your_report)\n",
        "     ---------\n",
        "     _returns_\n",
        "    print the entities and their labels.\n",
        "    \"\"\" \n",
        "\n",
        "\n",
        "    if doc.ents:\n",
        "        for ent in doc.ents:\n",
        "            print(ent.text + ' --------- '+ ent.label_)\n",
        "    else:\n",
        "        print('No entities found')\n",
        "\n",
        "\n",
        "\n",
        "def impressions(string):\n",
        "    \"\"\"_summary_: This function will output the impressions and the dates as a Spacy object.\n",
        "     It takes the CT scan results and returns only the impressions area of the report with the date.\n",
        "    If you want to see the findings and the impressions, you can use the function 'print_findings'\n",
        "    ** Important: Here we lowercase the string to make it easier to find the impressions.**\n",
        "\n",
        "    Returns\n",
        "    Spacy object: The findings and the dates of the CT scan.\n",
        "    -------\n",
        "    _type_\n",
        "    String\n",
        "    \"\"\"\n",
        "\n",
        "\n",
        "    s = string.lower()\n",
        "    d1 = s.rfind(\"date\")\n",
        "    e1 = s.rfind(\"date\") + 26 \n",
        "    date = s[d1:e1]\n",
        "    imp = s.split('impression:')[1]\n",
        "    return nlp(date + imp)\n",
        "\n",
        "\n",
        "def findinds_impressions_dates(string):\n",
        "    \"\"\"_summary_: This function will output the findingds, the impressions and the dates as a Spacy object.\n",
        "     It takes the CT scan results and returns findings, the impressions with the date.\n",
        "         ** Important: Here we lowercase the string to make it easier to find the findings.**\n",
        "    Returns\n",
        "    Spacy object: The findings, impressions and the dates of the CT scan.\n",
        "    -------\n",
        "    _type_\n",
        "    String\n",
        "    \"\"\"\n",
        "\n",
        "\n",
        "    s = string.lower()\n",
        "    d1 = s.rfind(\"date\")\n",
        "    e1 = s.rfind(\"date\") + 26 \n",
        "    date = s[d1:e1]\n",
        "    imp = s.split('findings:')[1]\n",
        "    return nlp(date + imp)\n",
        "    \n",
        "# Here is a list of colors used for the display function you can change the colors if you like\n",
        "  \n",
        "displacy_colors = { \"ATROPHY\":\"#eef5fb\", \"GRAY-WHITE\": \"#deebf7\", \"LAM_NECROSIS\":\"#cee1f3\",\n",
        "                   \"DENSITY-HIGH\":\"#bed8ef\", \"DENSITY-ISO\":\"#afceec\", \"DENSITYHIGH\":\"#9fc5e8\",\n",
        "                   \"DENSITY-MIXED\":\"#8fbbe4\", \"DENSITY-UNDIFF\":\"#7fb2e0\",\"CLOT\":\"#6fa8dc\",\n",
        "                   \"CONTUSION\": \"#609ed8\" , \n",
        "                   \"HEMORRHAGE\": \"#eb0087\" ,\n",
        "                   \"STROKE\": \"#f91010\" , \n",
        "                   \"VASCULAR\": \"#3182cc\", \"MALFORMATION\": \"#2e78bc\",\"FLUID COLLECTION\": \"#2a6eac\",\n",
        "                   \"Edema\": \"#26649c\", \"HERNIATION\": \"#225a8d\", \"MASS EFFECT\": \"#1e4f7d\" ,\n",
        "                   \"MIDLINESHIFT\": \"#b1b1ff\", \"LESION\": \"#173b5d\", \"HYDROCEPHALUS\": \"#1d4d70\" , \n",
        "                   \"PNEUMOCEPHALUS\": \"#184e75\", \"SURGICAL-AFTER\": \"#124f7b\" , \n",
        "                   \"SURGICAL-CLIP\": \"#0d5080\" ,\n",
        "                   \"SURGICAL-DRAIN\":\"#075086\" , \"SURGICAL-ENDOVASCULAR\" : \"#02518b\" , \n",
        "                   \"SURGICAL-HOLE\":\"#054ba2\" , \"SURGICAL-MONITOR\": \"#0b4c9c\",\n",
        "                   \"SURGICAL-PLACEMENT\": \"#124d95\" ,\n",
        "                   \"SURGICAL-REMOVAL\": \"#184d8f\", \"FRACTURE\":\"#c713ff\" , \n",
        "                   \"MAG-NORMAL\": \"#e5f5e0\", \"MAG-RESOLVED\": \"#d9f0d1\" ,\n",
        "                   \"MAG-BETTER\": \"#c0e7b4\" , \"MAG-WORSE\": \"#a7dd96\", \n",
        "                   \"MAG-SAME\": \"#8ed478\", \"MAG-LARGE\" : \"#81cf69\",\n",
        "                   \"MAG-SMALL\" : \"#00e8eb\", \"SIZE\": \"#00eb78\" ,\n",
        "                   \"MAG-MODIFIER\":\"#5dbf3e\" , \"MAG-OTHER\": \"#55b139\",\n",
        "                   \"COMPART-EXTERNAL\": \"#fee6ce\", \n",
        "                   \"SINUS\": \"#fdd2a8\", \"COMPART-EXTAX\": \"#fcbf81\",\n",
        "                   \"VENTRICLE\" : \"#fcab5b\", \"DIRECTION\": \"#ff6500\",\n",
        "                   \"COMPART-INTAX\" : \"#fa8e21\", \"PARENCH-DEEP\": \"#fa840e\",\n",
        "                   \"PARENCH-BRAINSTEM\" : \"#ef7a05\", \"PARENCH-CEREBELLAR\": \"#dc7004\",\n",
        "                   \"PARENCH-CORTICAL\": \"#c96704\", \"REGION\": \"#b65d04\",\n",
        "                   \"TERRITORY\":\"#8f4903\", \"COMPART-OTHER\": \"#693502\", \n",
        "                   \"SMALLVESSEL\": \"#fd9c9c\",\n",
        "                   \"DATE\": \"#ffff00\", \"TIME\": \"#d5ff00\",\n",
        "                   \"DUR-NEW\": \"#fbd45d\", \"DUR-OLD\":\"#fac523\", \"DUR-UNDIFF\": \"#ebb300\",\n",
        "                   \"ENDL\": \"#f6f6f6\", \"NEGATION\":\"#808080\",\"UNCERTAINTY\": \"#d8d8d8\"\n",
        "                  } \n",
        "                   \n",
        "Options= {\"ents\": [\"ATROPHY\", \"GRAY-WHITE\", \"LAM_NECROSIS\",\n",
        "                   \"DENSITY-HIGH\", \"DENSITY-ISO\", \"DENSITY-HIGH\",\n",
        "                   \"DENSITY-MIXED\", \"DENSITY-UNDIFF\",\"CLOT\",\n",
        "                   \"CONTUSION\", \"HEMORRHAGE\", \"STROKE\" ,\n",
        "                   \"VASCULAR\", \"MALFORMATION\",\"FLUID COLLECTION\",\n",
        "                   \"Edema\", \"HERNIATION\", \"MASS EFFECT\",\n",
        "                   \"MIDLINESHIFT\", \"LESION\", \"HYDROCEPHALUS\", \n",
        "                   \"PNEUMOCEPHALUS\", \"SURGICAL-AFTER\", \n",
        "                   \"SURGICAL-CLIP\",\n",
        "                   \"SURGICAL-DRAIN\", \"SURGICAL-ENDOVASCULAR\" , \n",
        "                   \"SURGICAL-HOLE\", \"SURGICAL-MONITOR\",\n",
        "                   \"SURGICAL-PLACEMENT\" ,\n",
        "                   \"SURGICAL-REMOVAL\", \"FRACTURE\" , \n",
        "                   \"MAG-NORMAL\", \"MAG-RESOLVED\",\n",
        "                   \"MAG-BETTER\", \"MAG-WORSE\", \n",
        "                   \"MAG-SAME\",\"MAG-LARGE\",\n",
        "                   \"MAG-SMALL\", \"SIZE\" ,\n",
        "                   \"MAG-MODIFIER\", \"MAG-OTHER\",\n",
        "                   \"COMPART-EXTERNAL\", \n",
        "                   \"SINUS\", \"COMPART-EXTAX\",\n",
        "                   \"VENTRICLE\" , \"DIRECTION\",\n",
        "                   \"COMPART-INTAX\" , \"PARENCH-DEEP\",\n",
        "                   \"PARENCH-BRAINSTEM\" , \"PARENCH-CEREBELLAR\",\n",
        "                   \"PARENCH-CORTICAL\", \"REGION\",\n",
        "                   \"TERRITORY\", \"COMPART-OTHER\", \n",
        "                   \"SMALLVESSEL\",\n",
        "                   \"DATE\", \"TIME\",\n",
        "                   \"DUR-NEW\", \"DUR-OLD\", \"DUR-UNDIFF\",\n",
        "                   \"ENDL\", \"NEGATION\", \"UNCERTAINTY\"], \"colors\": displacy_colors}\n",
        "    "
      ],
      "metadata": {
        "id": "uORySWQ9xobU"
      },
      "execution_count": null,
      "outputs": []
    }
  ]
}